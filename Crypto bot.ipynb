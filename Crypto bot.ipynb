{
 "cells": [
  {
   "cell_type": "code",
   "execution_count": null,
   "id": "6de518d1",
   "metadata": {},
   "outputs": [],
   "source": [
    "from alpaca_trade_api.rest import REST, TimeFrame\n",
    "import pandas as pd\n"
   ]
  },
  {
   "cell_type": "code",
   "execution_count": null,
   "id": "e452f557",
   "metadata": {},
   "outputs": [],
   "source": [
    "BASE_URL = \"https://paper-api.alpaca.markets\"\n",
    "KEY_ID = \"PKFWIFTNWGL03QMC6IY6\"\n",
    "SECRET_KEY = \"f8EuHK0EIDbdK3xqnmd3kEq1JARwScJF2tkJhafk\""
   ]
  },
  {
   "cell_type": "code",
   "execution_count": null,
   "id": "5f375510",
   "metadata": {},
   "outputs": [],
   "source": [
    "# Instantiate REST API Connection\n",
    "api = REST(key_id=KEY_ID,secret_key=SECRET_KEY,base_url=\"https://paper-api.alpaca.markets\")\n",
    "\n",
    "# Fetch 1Minute historical bars of Bitcoin\n",
    "bars = api.get_crypto_bars(\"BTCUSD\", TimeFrame.Minute).df\n",
    "print(bars)"
   ]
  },
  {
   "cell_type": "code",
   "execution_count": null,
   "id": "3f90e2dd",
   "metadata": {},
   "outputs": [],
   "source": [
    "# Filter data by exchange\n",
    "bars = bars[bars.exchange == 'CBSE']\n",
    "print(bars)"
   ]
  },
  {
   "cell_type": "code",
   "execution_count": null,
   "id": "bac6e8bf",
   "metadata": {},
   "outputs": [],
   "source": [
    " # Create a market order to buy 1 Bitcoin\n",
    "order_buy = api.submit_order('BTCUSD', qty=1, side='buy')\n",
    "print(order_buy)"
   ]
  },
  {
   "cell_type": "code",
   "execution_count": null,
   "id": "7ce98622",
   "metadata": {},
   "outputs": [],
   "source": [
    "#create a market order to sell 1 bitcoin\n",
    "order_sell = api.submit_order('BTCUSD',qty=1, side='sell')\n",
    "print(order_sell)"
   ]
  },
  {
   "cell_type": "code",
   "execution_count": null,
   "id": "3ab592fb",
   "metadata": {},
   "outputs": [],
   "source": [
    "# get current position on bitcoin. yields error if we dont hold any\n",
    "api.get_position('BTC')\n",
    "#get all position and find out if we hold any bitcoin\n",
    "positions = api.list_positions()\n",
    "position_qty = 0\n",
    "for p in positions:\n",
    "    if p.symbol == 'BTCUSD':\n",
    "        position_qty = float(p.qty)\n",
    "print(position_qty) "
   ]
  },
  {
   "cell_type": "code",
   "execution_count": null,
   "id": "5bff1d52",
   "metadata": {},
   "outputs": [],
   "source": [
    "def get_position(symbol):\n",
    "    positions = api.list_positions()\n",
    "    for p in positions:\n",
    "        if p.symbol == symbol:\n",
    "            return float(p.qty)\n",
    "    return 0"
   ]
  },
  {
   "cell_type": "code",
   "execution_count": null,
   "id": "8054aa53",
   "metadata": {},
   "outputs": [],
   "source": [
    "import random\n",
    "\n",
    "SYMBOL = 'BTCUSD'\n",
    "while True:\n",
    "    # GET OUR CURRENT POSITION\n",
    "    position = get_position(symbol=SYMBOL)\n",
    "    \n",
    "    # SCIENTIFICALLY CHECK IF WE SHOULD BUY OR SELL\n",
    "    gods_say_buy = random.choice([True, False])\n",
    "    print(f\"Holding: {position} / Gods: {gods_say_buy}\")\n",
    "\n",
    "    #CHECK IF WE SHOULD BUY\n",
    "    if position == 0 and gods_say_buy == True:\n",
    "        # WE BUY ONE BITCOIN\n",
    "        print('The gods have spoken:')\n",
    "        print(f'Symbol: {SYMBOL} / Side: BUY / Quantity: 1')\n",
    "        api.submit_order(SYMBOL, qty=1, side='buy')\n",
    "    #HECK IF WE SHOULD SELL\n",
    "    elif position > 0 and gods_say_buy == False:\n",
    "        # WE SELL ONE BITCOIN\n",
    "        print('The gods have spoken:')\n",
    "        print(f'Symbol: {SYMBOL} / Side: SELL / Quantity: 1')\n",
    "        api.submit_order(SYMBOL, qty=1, side='sell')\n",
    "    print('Lets wait for the gods to manifest again...')\n",
    "    print(\"*\"*20)\n",
    "    time.sleep(10)"
   ]
  },
  {
   "cell_type": "code",
   "execution_count": null,
   "id": "6b296136",
   "metadata": {},
   "outputs": [],
   "source": [
    "from datetime import datetime, timedelta\n",
    "import math\n",
    "import time\n",
    "\n",
    "SYMBOL = 'BTCUSD'\n",
    "SMA_FAST = 12\n",
    "SMA_SLOW = 24\n",
    "QTY_PER_TRADE = 1\n",
    "\n",
    "\n",
    "# Description is given in the article\n",
    "def get_pause():\n",
    "    now = datetime.now()\n",
    "    next_min = now.replace(second=0, microsecond=0) + timedelta(minutes=1)\n",
    "    pause = math.ceil((next_min - now).seconds)\n",
    "    print(f\"Sleep for {pause}\")\n",
    "    return pause\n",
    "\n",
    "# Same as the function in the random version\n",
    "def get_position(symbol):\n",
    "    positions = api.list_positions()\n",
    "    for p in positions:\n",
    "        if p.symbol == symbol:\n",
    "            return float(p.qty)\n",
    "    return 0\n",
    "\n",
    "\n",
    "# Returns a series with the moving average\n",
    "def get_sma(series, periods):\n",
    "    return series.rolling(periods).mean()\n",
    "\n",
    "# Checks wether we should buy (fast ma > slow ma)\n",
    "def get_signal(fast, slow):\n",
    "    print(f\"Fast {fast[-1]}  /  Slow: {slow[-1]}\")\n",
    "    return fast[-1] > slow[-1]\n",
    "\n",
    "# Get up-to-date 1 minute data from Alpaca and add the moving averages\n",
    "def get_bars(symbol):\n",
    "    bars = api.get_crypto_bars(symbol, TimeFrame.Minute).df\n",
    "    bars = bars[bars.exchange == 'CBSE']\n",
    "    bars[f'sma_fast'] = get_sma(bars.close, SMA_FAST)\n",
    "    bars[f'sma_slow'] = get_sma(bars.close, SMA_SLOW)\n",
    "    return bars\n",
    "\n",
    "while True:\n",
    "    # GET DATA\n",
    "    bars = get_bars(symbol=SYMBOL)\n",
    "    # CHECK POSITIONS\n",
    "    position = get_position(symbol=SYMBOL)\n",
    "    should_buy = get_signal(bars.sma_fast,bars.sma_slow)\n",
    "    print(f\"Position: {position} / Should Buy: {should_buy}\")\n",
    "    if position == 0 and should_buy == True:\n",
    "        # WE BUY ONE BITCOIN\n",
    "        api.submit_order(SYMBOL, qty=QTY_PER_TRADE, side='buy')\n",
    "        print(f'Symbol: {SYMBOL} / Side: BUY / Quantity: {QTY_PER_TRADE}')\n",
    "    elif position > 0 and should_buy == False:\n",
    "        # WE SELL ONE BITCOIN\n",
    "        api.submit_order(SYMBOL, qty=QTY_PER_TRADE, side='sell')\n",
    "        print(f'Symbol: {SYMBOL} / Side: SELL / Quantity: {QTY_PER_TRADE}')\n",
    "\n",
    "    time.sleep(get_pause())\n",
    "    print(\"*\"*20)"
   ]
  }
 ],
 "metadata": {
  "kernelspec": {
   "display_name": "Python 3 (ipykernel)",
   "language": "python",
   "name": "python3"
  },
  "language_info": {
   "codemirror_mode": {
    "name": "ipython",
    "version": 3
   },
   "file_extension": ".py",
   "mimetype": "text/x-python",
   "name": "python",
   "nbconvert_exporter": "python",
   "pygments_lexer": "ipython3",
   "version": "3.10.3"
  }
 },
 "nbformat": 4,
 "nbformat_minor": 5
}
